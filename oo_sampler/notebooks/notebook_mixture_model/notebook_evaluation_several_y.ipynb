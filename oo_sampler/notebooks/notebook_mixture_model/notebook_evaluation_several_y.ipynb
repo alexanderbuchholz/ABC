{
 "cells": [
  {
   "cell_type": "code",
   "execution_count": null,
   "metadata": {
    "collapsed": true
   },
   "outputs": [],
   "source": [
    "%matplotlib inline\n",
    "import sys\n",
    "sys.path.append(\"/home/alex/python_programming/ABC/oo_sampler\")\n",
    "sys.path.append(\"/home/alex/python_programming/ABC/oo_sampler/functions\")\n",
    "sys.path.append(\"/home/alex/python_programming/ABC/oo_sampler/functions/tuberculosis_model\")\n",
    "sys.path.append(\"/home/alex/python_programming/ABC/oo_sampler/results_smc/mc\")\n",
    "#from functions_smc import *\n",
    "import pickle\n",
    "import numpy as np\n",
    "from functions_smc import smc_sampler_abc\n",
    "from functions_tuberculosis_model import delta"
   ]
  }
 ],
 "metadata": {
  "kernelspec": {
   "display_name": "Python 2",
   "language": "python",
   "name": "python2"
  },
  "language_info": {
   "codemirror_mode": {
    "name": "ipython",
    "version": 2
   },
   "file_extension": ".py",
   "mimetype": "text/x-python",
   "name": "python",
   "nbconvert_exporter": "python",
   "pygments_lexer": "ipython2",
   "version": "2.7.12"
  }
 },
 "nbformat": 4,
 "nbformat_minor": 0
}
